{
 "cells": [
  {
   "cell_type": "code",
   "execution_count": 207,
   "metadata": {},
   "outputs": [],
   "source": [
    "# bibliotecas\n",
    "import numpy as np\n",
    "import scipy as sp\n",
    "from numpy import pi, sin, cos, exp, sqrt, tan\n",
    "import pylab as plt\n",
    "import scipy.constants as cte\n",
    "from scipy.constants import hbar, epsilon_0\n",
    "from scipy.interpolate import interp1d\n",
    "from scipy.integrate import quad, nquad\n",
    "import timeit"
   ]
  },
  {
   "cell_type": "code",
   "execution_count": 208,
   "metadata": {},
   "outputs": [],
   "source": [
    "# constantes do problema\n",
    "\n",
    "deltaEc = 1.25*cte.e # altura do poco do eletron\n",
    "deltaEv = 1.45*cte.e # altura do poco do buraco\n",
    "me = cte.m_e*.15 # massa efetiva do eletron\n",
    "mh = cte.m_e*0.14 # massa efetiva do buraco\n",
    "cte_dielet = 4.96 # cte dieletrica\n",
    "camadas = 5 # numero de camadas\n",
    "a = camadas*.59e-9 # espessura do nanoplatelete"
   ]
  },
  {
   "cell_type": "code",
   "execution_count": 209,
   "metadata": {},
   "outputs": [],
   "source": [
    "# definicao de algumas variaveis que serao utilizadas no codigo\n",
    "\n",
    "global beta, lamb, V0, m, E\n",
    "\n",
    "mi = 1/(1/me + 1/mh) # mu_perp\n",
    "eps = cte_dielet*epsilon_0 # permissividade do material"
   ]
  },
  {
   "cell_type": "markdown",
   "metadata": {},
   "source": [
    "### 1. Calcular o valor de $k$ do poço finito\n",
    "\n",
    "O valor do $k$ é calculado pela equação transcendental\n",
    "\n",
    "$$\n",
    "    \\tan{(ka/2)} = \\kappa/k \\qquad\\Rightarrow\\qquad \\tan{(ka/2)} - \\kappa/k = 0.\n",
    "$$\n",
    "\n",
    "O que será feito então é definir uma função a partir da última equação cuja sua variável é $E$ e encontrar a sua primeira raíz."
   ]
  },
  {
   "cell_type": "code",
   "execution_count": 210,
   "metadata": {},
   "outputs": [],
   "source": [
    "k = lambda E: sqrt(2*m*E)/hbar\n",
    "kappa = lambda E: sqrt(2*m*(V0 - E))/hbar\n",
    "f_transc = lambda E: tan(k(E)*a/2) - kappa(E)/k(E) # funcao transcendental do poco finito\n",
    "\n",
    "\n",
    "\"\"\"\n",
    "funcao que devolve a primeira raiz de uma funcao dado um 'range' x do seu domínio\n",
    "e um 'range' y da sua imagem.\n",
    "\n",
    "percorre x até encontrar dois pontos seguidos nos quais y muda de sinal, então chama a funcao\n",
    "secante para encontrar a raíz entre esses pontos\n",
    "\"\"\"\n",
    "def raiz(x, y):\n",
    "    for i in range(1, len(y)):\n",
    "        if y[i]*y[i-1] < 0:\n",
    "            raiz = secante(x[i-1], x[i])\n",
    "            out = raiz\n",
    "            break\n",
    "    return out\n",
    "\n",
    "\"\"\"\n",
    "funcao que devolve a raiz de f_transc entre dois pontos E1 e E2\n",
    "\n",
    "o calculo é feito utilizando o método da secante e a precisão do valor encontrado\n",
    "é dada por epsilon\n",
    "\"\"\"\n",
    "def secante(E1, E2):\n",
    "    global E\n",
    "    E = E2\n",
    "    epsilon = 1e-9\n",
    "    while abs(f_transc(E2)) > epsilon:\n",
    "        E1, E2 = E2, E2 - f_transc(E2)*(E2 - E1)/(f_transc(E2) - f_transc(E1))\n",
    "        E = E2\n",
    "    return E2"
   ]
  },
  {
   "cell_type": "code",
   "execution_count": 211,
   "metadata": {},
   "outputs": [
    {
     "data": {
      "image/png": "[encoded data removed]",
      "text/plain": [
       "<Figure size 432x288 with 1 Axes>"
      ]
     },
     "metadata": {
      "needs_background": "light"
     },
     "output_type": "display_data"
    }
   ],
   "source": [
    "# valores para o eletron\n",
    "V0 = deltaEc\n",
    "m = me\n",
    "\n",
    "eps_E = cte.e*1e-5 # epsilon da energia para evitar divergência da função f_transc em 0\n",
    "Es = np.linspace(eps_E, deltaEc, 10000) # range na energia no qual será procurada a raíz\n",
    "y = [f_transc(Ei) for Ei in Es]\n",
    "\n",
    "# valor da energia de ligacao do elétron\n",
    "Ee = raiz(Es, y)\n",
    "\n",
    "k_e = k(Ee) # k do elétron\n",
    "kappa_e = kappa(Ee) # kappa do elétron\n",
    "\n",
    "# grafico para verificação visual da raíz encontrada\n",
    "plt.plot(Es, y)\n",
    "plt.plot(raiz(Es, y), 0, 'ro')\n",
    "plt.ylim(-100, 100)\n",
    "plt.ylabel(r'$\\tan{(ka/2)} - \\kappa/k$')\n",
    "plt.xlabel(r'$E$')\n",
    "plt.show()"
   ]
  },
  {
   "cell_type": "code",
   "execution_count": 212,
   "metadata": {
    "scrolled": true
   },
   "outputs": [
    {
     "data": {
      "image/png": "[encoded data removed]",
      "text/plain": [
       "<Figure size 432x288 with 1 Axes>"
      ]
     },
     "metadata": {
      "needs_background": "light"
     },
     "output_type": "display_data"
    }
   ],
   "source": [
    "# valores para o buraco\n",
    "V0 = deltaEv\n",
    "m = mh\n",
    "\n",
    "Es = np.linspace(eps_E, deltaEv, 1000) # range na energia no qual será procurada a raíz\n",
    "y = [f_transc(Ei) for Ei in Es]\n",
    "\n",
    "# valor da energia de ligacao do buraco\n",
    "Eh = raiz(Es, y)\n",
    "\n",
    "k_h = k(Eh) # k do buraco\n",
    "kappa_h = kappa(Eh) # kappa do buraco\n",
    "\n",
    "# grafico para verificação visual da raíz encontrada\n",
    "plt.plot(Es, y)\n",
    "plt.plot(raiz(Es, y), 0, 'ro')\n",
    "plt.ylim(-100, 100)\n",
    "plt.ylabel(r'$\\tan{(ka/2)} - \\kappa/k$')\n",
    "plt.xlabel(r'$E$')\n",
    "plt.show()"
   ]
  },
  {
   "cell_type": "markdown",
   "metadata": {},
   "source": [
    "### 2. Cálculo das funções $\\psi_e$ e $\\psi_h$\n",
    "\n",
    "A partir dos valores de $k$ encontrados para o elétron e para o buraco definimos uma função para a função de onda não normalizada de cada partícula pela equação \n",
    "\n",
    "\\begin{equation}\n",
    "    \\psi(x)=\n",
    "\t\\begin{cases}\n",
    "\t\\cos(ka/2)\\exp(\\kappa a/2)\\exp(\\kappa x), &  x \\leq -a/2\\\\\n",
    "\t\\cos(kx), &  |x| \\leq a/2\\\\\n",
    "\t\\cos(ka/2)\\exp(\\kappa a/2)\\exp(-\\kappa x), &  x \\geq a/2\\\\\n",
    "\t\\end{cases}\n",
    "\\end{equation}\n",
    "\n",
    "Isolando o $x$ no último caso obtemos\n",
    "\n",
    "$$\n",
    "    x = \\frac{1}{\\kappa}\\ln\\left[\\frac{\\cos(ka/2)e^{\\kappa a/2}}{\\psi(x)}\\right]\n",
    "$$\n",
    "\n",
    "assim, dado um valor de $\\psi(x)$ conseguimos encontrar o valor de $x$ em que isso ocorre. Para limitar o espaço em um tamanho infinito consideramos que $x$ é infinito quando $\\psi(x) \\sim 10^{-3}$."
   ]
  },
  {
   "cell_type": "code",
   "execution_count": 213,
   "metadata": {},
   "outputs": [],
   "source": [
    "# tamanho do infinito para a variavel a e 'dobro do infinito' para x\n",
    "L = 2/kappa_e*np.log(cos(k_e*a/2)*exp(kappa_e*a/2)*1e3)"
   ]
  },
  {
   "cell_type": "code",
   "execution_count": 214,
   "metadata": {},
   "outputs": [
    {
     "data": {
      "image/png": "[encoded data removed]",
      "text/plain": [
       "<Figure size 432x288 with 1 Axes>"
      ]
     },
     "metadata": {
      "needs_background": "light"
     },
     "output_type": "display_data"
    }
   ],
   "source": [
    "# funcao de onda do elétron em função da distância x\n",
    "def psie(x):\n",
    "    if x < -a/2:\n",
    "        return cos(k_e*a/2)*exp(kappa_e*a/2)*exp(kappa_e*x)\n",
    "    elif x < a/2:\n",
    "        return cos(k_e*x)\n",
    "    else:\n",
    "        return cos(k_e*a/2)*exp(kappa_e*a/2)*exp(-kappa_e*x)\n",
    "\n",
    "# gráfico para visualização da função de onda\n",
    "xs = np.linspace(-L/2, L/2, 1000)\n",
    "plt.plot(xs, [psie(xi) for xi in xs])\n",
    "plt.ylabel(r'$\\psi_e(z_e)$')\n",
    "plt.xlabel(r'$z_e$')\n",
    "plt.show()"
   ]
  },
  {
   "cell_type": "code",
   "execution_count": 215,
   "metadata": {},
   "outputs": [
    {
     "data": {
      "image/png": "[encoded data removed]",
      "text/plain": [
       "<Figure size 432x288 with 1 Axes>"
      ]
     },
     "metadata": {
      "needs_background": "light"
     },
     "output_type": "display_data"
    }
   ],
   "source": [
    "# funcao de onda do buraco em função da distância x\n",
    "def psih(x):\n",
    "    if x < -a/2:\n",
    "        return cos(k_h*a/2)*exp(kappa_h*a/2)*exp(kappa_h*x)\n",
    "    elif x < a/2:\n",
    "        return cos(k_h*x)\n",
    "    else:\n",
    "        return cos(k_h*a/2)*exp(kappa_h*a/2)*exp(-kappa_h*x)\n",
    "\n",
    "# gráfico para visualização da função de onda\n",
    "xs = np.linspace(-L/2, L/2, 1000)\n",
    "plt.plot(xs, [psih(xi) for xi in xs])\n",
    "plt.ylabel(r'$\\psi_h(z_h)$')\n",
    "plt.xlabel(r'$z_h$')\n",
    "plt.show()"
   ]
  },
  {
   "cell_type": "markdown",
   "metadata": {},
   "source": [
    "### 3. Definição das funções perpendiculares\n",
    "\n",
    "A função $p(a)$ é a seguinte integral\n",
    "$$\n",
    "    p(a) = \\int^{L/2-a}_{-L/2} \\psi_e^2(z+a)\\psi_h^2(z) + \\psi_e^2(z)\\psi_h^2(z+a) dz,\n",
    "$$\n",
    "onde $a\\in[0, \\infty]$. Será feito uma interpolação para $p(a)$ pois assim seu valor em um ponto é calculado mais rapidamente, visto que não tem que passar pelos if."
   ]
  },
  {
   "cell_type": "code",
   "execution_count": 216,
   "metadata": {},
   "outputs": [
    {
     "data": {
      "image/png": "[encoded data removed]",
      "text/plain": [
       "<Figure size 432x288 with 1 Axes>"
      ]
     },
     "metadata": {
      "needs_background": "light"
     },
     "output_type": "display_data"
    }
   ],
   "source": [
    "# p(a)\n",
    "p_inte = lambda z, a: (psie(z+a)*psih(z))**2 + (psie(z)*psih(z+a))**2\n",
    "p = lambda a: quad(p_inte, -L/2, L/2-a, args=(a))[0]\n",
    "\n",
    "# interpolação da funcao p(a)\n",
    "arange = np.linspace(0, L, 200)\n",
    "prange = [p(i) for i in arange]\n",
    "p = interp1d(arange, prange)\n",
    "\n",
    "# gráfico para visualização da função p(a)\n",
    "arange = np.linspace(0, L, 200)\n",
    "plt.plot(arange, [p(ai) for ai in arange])\n",
    "plt.ylabel(r'$p(a)$')\n",
    "plt.xlabel(r'$a$')\n",
    "plt.show()"
   ]
  },
  {
   "cell_type": "markdown",
   "metadata": {},
   "source": [
    "As funções $F$, $G$, $J$ e $K$ são dadas por\n",
    "\n",
    "$$\n",
    "    F(a) = 2\\pi \\left(\\frac{\\lambda\\sqrt{1 - \\beta^2}a}{2} + \\frac{\\lambda^2}{4}\\right) \\exp\\left(-\\frac{2\\sqrt{1-\\beta^2}a}{\\lambda}\\right)\n",
    "$$\n",
    "$$\n",
    "    G(a) = 2\\pi \\int^1_0 \n",
    "    \\frac{1-\\omega^2}{\\omega(1+\\omega^2)}\n",
    "    \\left(a\\frac{1-\\beta^2}{\\lambda}\\right)^2\n",
    "    \\exp\\left[-\\frac{\\sqrt{1-\\beta^2}a}{\\lambda}\n",
    "    \\left(\\frac{1}{\\omega}+\\omega\\right)\\right]d\\omega\n",
    "$$\n",
    "$$\n",
    "    J_1 + J_3 = 2\\pi\n",
    "    \\left(\\frac{\\sqrt{1 - \\beta^2}a}{2\\lambda} - \\frac{1}{4}\\right) \\exp\\left(-\\frac{2\\sqrt{1-\\beta^2}a}{\\lambda}\\right)\n",
    "$$\n",
    "$$\n",
    "    J_2 + J_4 = \\pi\\int^1_0\n",
    "    a\\sqrt{1-\\beta^2}\\left(\\frac{1}{\\omega^2} - 1\\right)\n",
    "    \\left[-\\frac{4}{\\lambda(\\omega+1/\\omega)^2} - \\frac{2a\\sqrt{1 - \\beta^2}}{(\\omega+1/\\omega)\\lambda^2}\\right]\n",
    "    \\exp\\left[-\\frac{a\\sqrt{1-\\beta^2}}{\\lambda}\\left(\\omega+\\frac{1}{\\omega}\\right)\\right]d\\omega\n",
    "$$\n",
    "$$\n",
    "    K(a) = a\\pi\\beta\\int^{\\left(1-\\sqrt{1-\\beta^2}\\right)\\frac{1}{\\beta}}_0\n",
    "    \\left(\\frac{1}{\\omega^2}-1\\right)\n",
    "    \\exp\\left[-\\frac{a\\beta}{\\lambda}\\left(\\frac{1}{\\omega}-\\omega\\right)\\right]d\\omega\n",
    "$$"
   ]
  },
  {
   "cell_type": "code",
   "execution_count": 217,
   "metadata": {},
   "outputs": [],
   "source": [
    "# F(a)\n",
    "F = lambda a: 2*pi*(lamb*sqrt(1 - beta**2)*a/2 + lamb**2/4)*exp(-2*sqrt(1-beta**2)*a/lamb)\n",
    "\n",
    "# G(a)\n",
    "G_inte = lambda w, a: 2*pi*(1-w**2)/w/(1+w**2)*(a*(1-beta**2)/lamb)**2*exp(-sqrt(1-beta**2)*a/lamb*(1/w+w))\n",
    "G = lambda a: quad(G_inte, 0, 1, args=(a))[0]\n",
    "\n",
    "# J(a)\n",
    "J13 = lambda a: 2*pi*(sqrt(1 - beta**2)*a/2/lamb - 1/4)*exp(-2*sqrt(1-beta**2)*a/lamb)\n",
    "J24_inte = lambda w, a: pi*a*sqrt(1-beta**2)*(1/w**2 - 1)*(-4/lamb/(w+1/w)**2 - 2*a*sqrt(1 - beta**2)/(w+1/w)/lamb**2)*\\\n",
    "            exp(-a*sqrt(1-beta**2)/lamb*(w+1/w))\n",
    "J24 = lambda a: quad(J24_inte, 0, 1, args=(a))[0]\n",
    "J = lambda a: J13(a) + J24(a)\n",
    "\n",
    "# K(a)\n",
    "arange = np.linspace(0, L, 1000)\n",
    "K_inte = lambda w, a: a*pi*beta*(1/w**2-1)*exp(-a*beta/lamb*(1/w-w))\n",
    "K = lambda a: quad(K_inte, 0, (1-sqrt(1-beta**2))/beta, args=(a))[0]"
   ]
  },
  {
   "cell_type": "markdown",
   "metadata": {},
   "source": [
    "### 4. Cálculo dos termos do hamiltoniano\n",
    "\n",
    "Os termos finais a serem calculados são \n",
    "\n",
    "$$\n",
    "    \\mathcal{D} = \\int^{L}_{0}p(a)F(a)da\n",
    "$$\n",
    "$$\n",
    "    \\mathcal{A} = E_e\\mathcal{D} + \\frac{\\hbar^2}{2m^*_e}\\int^{L}_0 p(a)G(a)da\n",
    "$$\n",
    "$$\n",
    "    \\mathcal{B} = E_h\\mathcal{D} + \\frac{\\hbar^2}{2m^*_h}\\int^{L}_0 p(a)G(a)da\n",
    "$$\n",
    "$$\n",
    "    \\mathcal{C} = \\mathcal{C}_{\\mathcal{T}} + \\mathcal{C}_{\\mathcal{V}} = -\\frac{\\hbar^2}{2\\mu_\\perp} \\int^{L}_0 p(a)J(a)da - \\frac{e^2}{4\\pi\\epsilon} \\int^{L}_0 p(a)K(a)da\n",
    "$$"
   ]
  },
  {
   "cell_type": "code",
   "execution_count": 220,
   "metadata": {},
   "outputs": [],
   "source": [
    "\"\"\"\n",
    "função que retorna o valor da energia calculada para os valores de lamb e beta atuais\n",
    "\"\"\"\n",
    "def E():\n",
    "    \n",
    "    atualiza() # atualiza as funções perpendiculares\n",
    "    \n",
    "    # calcula os valores de D, A, B e C\n",
    "    D_inte = lambda a: p(a)*F(a)\n",
    "    D = quad(D_inte, 0, L)[0]\n",
    "    A_inte = lambda a: p(a)*G(a)\n",
    "    aux = quad(A_inte, 0, L)[0]\n",
    "    A = Ee*D + hbar**2/2/me*aux\n",
    "    B = Eh*D + hbar**2/2/mh*aux\n",
    "    C1_inte = lambda a: p(a)*J(a)\n",
    "    C2_inte = lambda a: p(a)*K(a)\n",
    "    CT = -hbar**2/2/mi*quad(C1_inte, 0, L)[0]\n",
    "    CV = -cte.e**2/4/pi/eps*quad(C2_inte, 0, L)[0]\n",
    "    C = CT + CV\n",
    "\n",
    "    return (A + B + C)/D\n",
    "\n",
    "\"\"\"\n",
    "função que gera o gráfico com o valor da energia de ligação\n",
    "\n",
    "é feita uma iteração em um 'range' de lamb e beta calculando a energia para cada ponto\n",
    "\"\"\"\n",
    "def final():\n",
    "    \n",
    "    ti = timeit.default_timer() # tempo inicial\n",
    "    \n",
    "    global beta, lamb\n",
    "    \n",
    "    betaini = .6 # valor inicial de beta\n",
    "    betafin = 1 # valor final de beta\n",
    "    n_beta = 100 # número de pontos para em beta\n",
    "    beta_range = np.linspace(betaini, betafin, n_beta) # 'range' em beta\n",
    "    \n",
    "    lambini = 2.4 # valor inicial de lamb\n",
    "    lambfin = 3.25 # valor final de lamb\n",
    "    n_lamb = 100 # número de pontos para em lamb\n",
    "    lamb_range = np.linspace(lambini*1e-9, lambfin*1e-9, n_lamb) # 'range' em lamb\n",
    "    \n",
    "    # definimos duas variáveis X e Y que são matrizes de dimensão n_range x n_beta\n",
    "    # que são os valores de lamb e beta no plano beta x lamb\n",
    "    X, Y = np.meshgrid(lamb_range, beta_range)\n",
    "    \n",
    "    # matriz n_range x n_beta para os valores de E\n",
    "    Es = []\n",
    "    \n",
    "    for betai in beta_range:\n",
    "        beta = betai\n",
    "#         print('beta:', beta) # print opcional para mostrar qual valor de beta esta sendo calculado\n",
    "        Es_aux = [] # lista com os valores de E para beta = betai\n",
    "        for lambi in lamb_range:\n",
    "            lamb = lambi\n",
    "            Eb = E() - Ee - Eh # Eb = E - Ee - Eh\n",
    "            Es_aux.append(Eb)\n",
    "        Es.append(Es_aux)\n",
    "    Es = np.array(Es)\n",
    "    \n",
    "    # acha o minimo e seus parametros\n",
    "    energia = np.amin(Es)/cte.e*1e3 # Eb em meV\n",
    "    lamb = lamb_range[np.where(Es == np.amin(Es))[1][0]]/1e-9 # lamb em nm\n",
    "    beta = beta_range[np.where(Es == np.amin(Es))[0][0]]\n",
    "    \n",
    "    # grafico de E em função de lamb e beta\n",
    "    # nome da figura final\n",
    "    nome = 'nanoplatelet_' + str(camadas) + '_camadas_' +\\\n",
    "            str(n_lamb) + 'x' + str(n_beta) + '_pontos.svg'\n",
    "    fig, ax = plt.subplots(1)\n",
    "    im = ax.imshow(Es/1e-3/cte.e, origin='lower',\n",
    "                   extent=[lambini, lambfin, betaini, betafin], aspect='auto')\n",
    "    plt.xlabel(r'$\\lambda$ (nm)')\n",
    "    plt.ylabel(r'$\\beta$')\n",
    "    cb = plt.colorbar(im)\n",
    "    cb.set_label(r'$E$ (meV)')\n",
    "    plt.title(r'$E_B = $' + str(round(energia, 2)) + ' meV, ' +\\\n",
    "              r'$\\lambda = $' + str(round(lamb, 2)) + ' nm, ' +\\\n",
    "              r'$\\beta = $' + str(round(beta, 2)))\n",
    "    plt.plot(lamb, beta, color='red', marker='.')\n",
    "    plt.savefig(nome)\n",
    "    plt.show()\n",
    "    \n",
    "    tf = timeit.default_timer() # tempo final\n",
    "    print('Tempo de execucao:', round((tf - ti)/60, 3), 'minutos')"
   ]
  },
  {
   "cell_type": "code",
   "execution_count": 221,
   "metadata": {
    "scrolled": false
   },
   "outputs": [
    {
     "data": {
      "image/png": "[encoded data removed]",
      "text/plain": [
       "<Figure size 432x288 with 2 Axes>"
      ]
     },
     "metadata": {
      "needs_background": "light"
     },
     "output_type": "display_data"
    },
    {
     "name": "stdout",
     "output_type": "stream",
     "text": [
      "Tempo de execucao: 23.86 minutos\n"
     ]
    }
   ],
   "source": [
    "final()"
   ]
  },
  {
   "cell_type": "code",
   "execution_count": null,
   "metadata": {},
   "outputs": [],
   "source": []
  }
 ],
 "metadata": {
  "kernelspec": {
   "display_name": "Python 3",
   "language": "python",
   "name": "python3"
  },
  "language_info": {
   "codemirror_mode": {
    "name": "ipython",
    "version": 3
   },
   "file_extension": ".py",
   "mimetype": "text/x-python",
   "name": "python",
   "nbconvert_exporter": "python",
   "pygments_lexer": "ipython3",
   "version": "3.7.6"
  }
 },
 "nbformat": 4,
 "nbformat_minor": 4
}
