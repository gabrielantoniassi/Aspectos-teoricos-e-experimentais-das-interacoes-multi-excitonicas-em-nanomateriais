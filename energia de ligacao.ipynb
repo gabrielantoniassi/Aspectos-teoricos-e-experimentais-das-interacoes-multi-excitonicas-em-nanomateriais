{
 "cells": [
  {
   "cell_type": "code",
   "execution_count": 1,
   "metadata": {},
   "outputs": [],
   "source": [
    "# bibliotecas\n",
    "import numpy as np\n",
    "import scipy as sp\n",
    "from numpy import pi, sin, cos, exp, sqrt\n",
    "import pylab as plt\n",
    "from mpl_toolkits import mplot3d\n",
    "import scipy.constants as cte\n",
    "from scipy.constants import hbar, epsilon_0\n",
    "from scipy.interpolate import interp1d\n",
    "from scipy.integrate import quad\n",
    "import timeit"
   ]
  },
  {
   "cell_type": "code",
   "execution_count": 2,
   "metadata": {},
   "outputs": [],
   "source": [
    "# constantes do problema\n",
    "deltaEc = 1.25*cte.e # poco do eletron\n",
    "deltaEv = 1.45*cte.e # poco do buraco\n",
    "me = cte.m_e*.15\n",
    "meperp = cte.m_e*0.16\n",
    "mh = cte.m_e*0.14\n",
    "mhperp = cte.m_e*0.15\n",
    "cte_dielet = 4.96 # cte dieletrica\n",
    "camadas = 1\n",
    "a = camadas*.59e-9\n",
    "nome = 'perovskita_' + str(camadas) + '_camadas'\n",
    "\n",
    "global beta, lamb, V0, m, E\n",
    "L = 200e-10\n",
    "mi = 1/(1/meperp + 1/mhperp) # mu_perp\n",
    "eps = cte_dielet*epsilon_0\n",
    "N = int(1e3)\n",
    "h = L/N\n",
    "xs = np.arange(-L/2, L/2 + h, h)"
   ]
  },
  {
   "cell_type": "markdown",
   "metadata": {},
   "source": [
    "Primeiro resolvemos\n",
    "$$\n",
    "    H_e\\psi_e(z_e) = E_e\\psi_e(z_e), \\qquad  H_h\\psi_h(z_h) = E_h\\psi_h(z_h)\n",
    "$$\n"
   ]
  },
  {
   "cell_type": "code",
   "execution_count": 3,
   "metadata": {},
   "outputs": [],
   "source": [
    "def V(x):\n",
    "    if(x < a/2 and x > -a/2):\n",
    "        return 0\n",
    "    else:\n",
    "        return V0\n",
    "\n",
    "def f(r, x):\n",
    "    R = r[0]\n",
    "    S = r[1]\n",
    "    fR = S\n",
    "    fS = R*2*m*(V(x)-E)/hbar/hbar\n",
    "    return np.array([fR, fS], float)\n",
    "\n",
    "def RK4():\n",
    "    R = 0.\n",
    "    S = 1\n",
    "    r = np.array([R, S], float)\n",
    "    \n",
    "    out = []\n",
    "    for x in xs:\n",
    "        out.append(r[0])\n",
    "        k1 = h*f(r, x)\n",
    "        k2 = h*f(r + .5*k1, x + .5*h)\n",
    "        k3 = h*f(r + .5*k2, x + .5*h)\n",
    "        k4 = h*f(r + k3, x + h)\n",
    "        r += (k1 + 2*k2 + 2*k3 + k4)/6\n",
    "    \n",
    "    return out\n",
    "\n",
    "def solve(Ei):\n",
    "    R = 0.\n",
    "    S = 1\n",
    "    r = np.array([R, S], float)\n",
    "    \n",
    "    global E\n",
    "    E = Ei\n",
    "    \n",
    "    for x in xs:\n",
    "        k1 = h*f(r, x)\n",
    "        k2 = h*f(r + .5*k1, x + .5*h)\n",
    "        k3 = h*f(r + .5*k2, x + .5*h)\n",
    "        k4 = h*f(r + k3, x + h)\n",
    "        r += (k1 + 2*k2 + 2*k3 + k4)/6\n",
    "    \n",
    "    return r[0]\n",
    "\n",
    "def secante(E1, E2):\n",
    "    global E\n",
    "    E = E2\n",
    "    max_psi = max(np.absolute(np.array(RK4(), float)))\n",
    "    epsilon = max_psi/1e2\n",
    "    while abs(solve(E2)) > epsilon:\n",
    "        E1, E2 = E2, E1 - solve(E1)*(E2 - E1)/(solve(E2) - solve(E1))\n",
    "        E = E2\n",
    "        max_psi = max(np.absolute(np.array(RK4(), float)))\n",
    "        epsilon = max_psi/1e2\n",
    "    return E2\n",
    "\n",
    "def raizes(x, y):\n",
    "    out = []\n",
    "    for i in range(1, len(y)):\n",
    "        if (y[i] < 0 and y[i-1] > 0) or (y[i] > 0 and y[i-1] < 0):\n",
    "            raiz = secante(x[i-1], x[i])\n",
    "            out.append(raiz)\n",
    "    return out\n",
    "\n",
    "def energias(Ei, Ef):\n",
    "    Erange = np.linspace(Ei, Ef, 100)\n",
    "    psis = np.array([solve(Ei) for Ei in Erange], float)\n",
    "    \n",
    "    Es = raizes(Erange, psis)\n",
    "    print('Es =', Es)\n",
    "    \n",
    "    plt.plot(Erange, psis, '.')\n",
    "    for i in Es:\n",
    "        plt.plot(i, 0., 'ro')\n",
    "    plt.rcParams['figure.figsize'] = 15, 4\n",
    "    plt.show()\n",
    "    \n",
    "    return Es\n",
    "\n",
    "def binding(Ei, Ef):\n",
    "    Erange = np.linspace(Ei, Ef, 1000)\n",
    "    psis = []\n",
    "    aux = solve(Erange[0])\n",
    "    for Ei in Erange[1:]:\n",
    "        psis.append(solve(Ei))\n",
    "        if ((aux > 0 and psis[-1] < 0) or (aux < 0 and psis[-1] > 0)):\n",
    "            break\n",
    "    \n",
    "    Es = raizes(Erange, psis)\n",
    "    \n",
    "    return Es[0]\n",
    "\n",
    "def psiefunc():\n",
    "    import timeit\n",
    "    start = timeit.default_timer()\n",
    "    \n",
    "    global V0, m\n",
    "    V0 = deltaEc\n",
    "    m = me\n",
    "    \n",
    "    Ei = 0\n",
    "    Ef = 5*cte.e\n",
    "    E = binding(Ei, Ef)\n",
    "    print('E =', E)\n",
    "    \n",
    "    stop = timeit.default_timer()\n",
    "    print('Time: ', stop - start)\n",
    "    \n",
    "    xs_aux = np.append([-L/2 - 10*h], np.append(xs, [L/2 + 10*h]))\n",
    "    psis_aux = np.append([0], np.append(RK4(), [0]))\n",
    "    \n",
    "    return E, interp1d(xs_aux, psis_aux)\n",
    "\n",
    "def psihfunc():\n",
    "    start = timeit.default_timer()\n",
    "    \n",
    "    global V0, m\n",
    "    V0 = deltaEv\n",
    "    m = mh\n",
    "\n",
    "    Ei = 0\n",
    "    Ef = 5*cte.e\n",
    "    E = binding(Ei, Ef)\n",
    "    print('E =', E)\n",
    "    \n",
    "    stop = timeit.default_timer()\n",
    "    print('Time: ', stop - start)\n",
    "    \n",
    "    xs_aux = np.append([-L/2 - 10*h], np.append(xs, [L/2 + 10*h]))\n",
    "    psis_aux = np.append([0], np.append(RK4(), [0]))\n",
    "    \n",
    "    return E, interp1d(xs_aux, psis_aux)"
   ]
  },
  {
   "cell_type": "code",
   "execution_count": 4,
   "metadata": {
    "scrolled": true
   },
   "outputs": [
    {
     "name": "stdout",
     "output_type": "stream",
     "text": [
      "E = 1.4408080088489633e-19\n",
      "Time:  15.798116\n"
     ]
    },
    {
     "data": {
      "text/plain": [
       "[<matplotlib.lines.Line2D at 0x9066850>]"
      ]
     },
     "execution_count": 4,
     "metadata": {},
     "output_type": "execute_result"
    },
    {
     "data": {
      "image/png": "[encoded data removed]",
      "text/plain": [
       "<Figure size 432x288 with 1 Axes>"
      ]
     },
     "metadata": {
      "needs_background": "light"
     },
     "output_type": "display_data"
    }
   ],
   "source": [
    "Ee, psie = psiefunc()\n",
    "xs_aux = np.append([-L/2 - 10*h], np.append(xs, [L/2 + 10*h]))\n",
    "plt.plot(xs_aux, psie(xs_aux))"
   ]
  },
  {
   "cell_type": "code",
   "execution_count": 5,
   "metadata": {},
   "outputs": [
    {
     "name": "stdout",
     "output_type": "stream",
     "text": [
      "E = 1.6365398289425254e-19\n",
      "Time:  29.6518255\n"
     ]
    },
    {
     "data": {
      "text/plain": [
       "[<matplotlib.lines.Line2D at 0xa0c41f0>]"
      ]
     },
     "execution_count": 5,
     "metadata": {},
     "output_type": "execute_result"
    },
    {
     "data": {
      "image/png": "[encoded data removed]",
      "text/plain": [
       "<Figure size 432x288 with 1 Axes>"
      ]
     },
     "metadata": {
      "needs_background": "light"
     },
     "output_type": "display_data"
    }
   ],
   "source": [
    "Eh, psih = psihfunc()\n",
    "xs_aux = np.append([-L/2 - 10*h], np.append(xs, [L/2 + 10*h]))\n",
    "plt.plot(xs_aux, psih(xs_aux))"
   ]
  },
  {
   "cell_type": "markdown",
   "metadata": {},
   "source": [
    "$$\n",
    "    p(a) = \\int^{L/2-a}_{-L/2} |\\psi_e(z+a)|^2|\\psi_h(z)|^2 + |\\psi_e(z)|^2|\\psi_h(z+a)|^2 dz\n",
    "$$"
   ]
  },
  {
   "cell_type": "code",
   "execution_count": 6,
   "metadata": {},
   "outputs": [
    {
     "data": {
      "text/plain": [
       "<matplotlib.legend.Legend at 0xa0e9bb0>"
      ]
     },
     "execution_count": 6,
     "metadata": {},
     "output_type": "execute_result"
    },
    {
     "data": {
      "image/png": "[encoded data removed]",
      "text/plain": [
       "<Figure size 432x288 with 1 Axes>"
      ]
     },
     "metadata": {
      "needs_background": "light"
     },
     "output_type": "display_data"
    }
   ],
   "source": [
    "# eh feita uma interpolacao em p(a) para otimizacao\n",
    "# a = [0, L]\n",
    "arange = np.linspace(0, L, 200)\n",
    "# p(a)\n",
    "p_inte = lambda z, a: (psie(z+a)*psih(z))**2 + (psie(z)*psih(z+a))**2\n",
    "p = lambda a: quad(p_inte, -L/2, L/2-a, args=(a))[0]\n",
    "prange = [p(i) for i in arange]\n",
    "p = interp1d(arange, prange)\n",
    "plt.plot(arange, p(arange))\n",
    "plt.legend('p(a)')"
   ]
  },
  {
   "cell_type": "markdown",
   "metadata": {},
   "source": [
    "$$\n",
    "    F(a) = 2\\pi \\left(\\frac{\\lambda\\sqrt{1 - \\beta^2}a}{2} + \\frac{\\lambda^2}{4}\\right) \\exp\\left(-\\frac{2\\sqrt{1-\\beta^2}a}{\\lambda}\\right)\n",
    "$$\n",
    "\n",
    "$$\n",
    "    G(a) = 2\\pi \\int^1_0 \n",
    "    \\frac{1-\\omega^2}{\\omega(1+\\omega^2)}\n",
    "    \\left(a\\frac{1-\\beta^2}{\\lambda}\\right)^2\n",
    "    \\exp\\left[-\\frac{\\sqrt{1-\\beta^2}a}{\\lambda}\n",
    "    \\left(\\frac{1}{\\omega}+\\omega\\right)\\right]d\\omega\n",
    "$$\n",
    "\n",
    "$$\n",
    "    J_1 + J_3 = 2\\pi\n",
    "    \\left(\\frac{\\sqrt{1 - \\beta^2}a}{2\\lambda} - \\frac{1}{4}\\right) \\exp\\left(-\\frac{2\\sqrt{1-\\beta^2}a}{\\lambda}\\right)\n",
    "$$\n",
    "\n",
    "$$\n",
    "    J_2 + J_4 = \\pi\\int^1_0\n",
    "    a\\sqrt{1-\\beta^2}\\left(\\frac{1}{\\omega^2} - 1\\right)\n",
    "    \\left[-\\frac{4}{\\lambda(\\omega+1/\\omega)^2} - \\frac{2a\\sqrt{1 - \\beta^2}}{(\\omega+1/\\omega)\\lambda^2}\\right]\n",
    "    \\exp\\left[-\\frac{a\\sqrt{1-\\beta^2}}{\\lambda}\\left(\\omega+\\frac{1}{\\omega}\\right)\\right]d\\omega\n",
    "$$\n",
    "\n",
    "$$\n",
    "    K(a) = a\\pi\\beta\\int^{\\left(1-\\sqrt{1-\\beta^2}\\right)\\frac{1}{\\beta}}_0\n",
    "    \\left(\\frac{1}{\\omega^2}-1\\right)\n",
    "    \\exp\\left[-\\frac{a\\beta}{\\lambda}\\left(\\frac{1}{\\omega}-\\omega\\right)\\right]d\\omega\n",
    "$$"
   ]
  },
  {
   "cell_type": "code",
   "execution_count": 7,
   "metadata": {},
   "outputs": [],
   "source": [
    "def atualiza():\n",
    "    global F, G, J, K, beta, lamb\n",
    "    # F(a)\n",
    "    F = lambda a: 2*pi*(lamb*sqrt(1 - beta**2)*a/2 + lamb**2/4)*exp(-2*sqrt(1-beta**2)*a/lamb)\n",
    "    # G(a)\n",
    "    G_inte = lambda w, a: 2*pi*(1-w**2)/w/(1+w**2)*(a*(1-beta**2)/lamb)**2*exp(-sqrt(1-beta**2)*a/lamb*(1/w+w))\n",
    "    G = lambda a: quad(G_inte, 0, 1, args=(a))[0]\n",
    "    # J(a)\n",
    "    J13 = lambda a: 2*pi*(sqrt(1 - beta**2)*a/2/lamb - 1/4)*exp(-2*sqrt(1-beta**2)*a/lamb)\n",
    "    J24_inte = lambda w, a: pi*a*sqrt(1-beta**2)*(1/w**2 - 1)*(-4/lamb/(w+1/w)**2 - 2*a*sqrt(1 - beta**2)/(w+1/w)/lamb**2)*\\\n",
    "                exp(-a*sqrt(1-beta**2)/lamb*(w+1/w))\n",
    "    J24 = lambda a: quad(J24_inte, 0, 1, args=(a))[0]\n",
    "    J = lambda a: J13(a) + J24(a)\n",
    "    # K(a)\n",
    "    arange = np.linspace(0, L, 1000)\n",
    "    K_inte = lambda w, a: a*pi*beta*(1/w**2-1)*exp(-a*beta/lamb*(1/w-w))\n",
    "    K = lambda a: quad(K_inte, 0, (1-sqrt(1-beta**2))/beta, args=(a))[0]"
   ]
  },
  {
   "cell_type": "markdown",
   "metadata": {},
   "source": [
    "$$\n",
    "    \\mathcal{D} = \\int^{L}_{0}p(a)F(a)da\n",
    "$$\n",
    "\n",
    "$$\n",
    "    \\mathcal{A} = E_e\\mathcal{D} + \\frac{\\hbar^2}{2m^*_e}\\int^{L}_0 p(a)G(a)da\n",
    "$$\n",
    "\n",
    "$$\n",
    "    \\mathcal{B} = E_h\\mathcal{D} + \\frac{\\hbar^2}{2m^*_h}\\int^{L}_0 p(a)G(a)da\n",
    "$$\n",
    "\n",
    "$$\n",
    "    \\mathcal{C} = \\mathcal{C_T} + \\mathcal{C_V} = -\\frac{\\hbar^2}{2\\mu_\\perp} \\int^{L}_0 p(a)J(a)da - \\frac{e^2}{4\\pi\\epsilon} \\int^{L}_0 p(a)K(a)da\n",
    "$$"
   ]
  },
  {
   "cell_type": "code",
   "execution_count": 9,
   "metadata": {},
   "outputs": [],
   "source": [
    "def Eb():\n",
    "    atualiza()\n",
    "    D_inte = lambda a: p(a)*F(a)\n",
    "    D = quad(D_inte, 0, L)[0]\n",
    "    A_inte = lambda a: p(a)*G(a)\n",
    "    aux = quad(A_inte, 0, L)[0]\n",
    "    A = Ee*D + hbar**2/2/me*aux\n",
    "    B = Eh*D + hbar**2/2/mh*aux\n",
    "    C1_inte = lambda a: p(a)*J(a)\n",
    "    C2_inte = lambda a: p(a)*K(a)\n",
    "    CT = -hbar**2/2/mi*quad(C1_inte, 0, L)[0]\n",
    "    CV = -cte.e**2/4/pi/eps*quad(C2_inte, 0, L)[0]\n",
    "    C = CT + CV\n",
    "    \n",
    "    return (A + B + C)/D\n",
    "\n",
    "def final():\n",
    "    global beta, lamb\n",
    "    betaini = .6\n",
    "    betafin = 1\n",
    "    beta_range = np.linspace(betaini, betafin, 100)\n",
    "    lambini = 2.4\n",
    "    lambfin = 3.25\n",
    "    lamb_range = np.linspace(lambini*1e-9, lambfin*1e-9, 100)\n",
    "    X, Y = np.meshgrid(lamb_range, beta_range)\n",
    "    \n",
    "    Z = []\n",
    "    for betai in beta_range:\n",
    "        beta = betai\n",
    "        Es_aux = []\n",
    "        for lambi in lamb_range:\n",
    "            lamb = lambi\n",
    "            Es_aux.append(Eb() - Eh - Ee)\n",
    "        Z.append(Es_aux)\n",
    "    Z = np.array(Z)\n",
    "    \n",
    "    # acha o minimo e seus parametros\n",
    "    energia = np.amin(Z)/cte.e*1e3\n",
    "    beta = beta_range[np.where(Z == np.amin(Z))[0][0]]\n",
    "    lamb = lamb_range[np.where(Z == np.amin(Z))[1][0]]/1e-9\n",
    "    \n",
    "    # grafico\n",
    "    fig, ax = plt.subplots(1)\n",
    "    im = ax.imshow(Z/1e-3/cte.e, origin='lower', extent=[lambini, lambfin, betaini, betafin], aspect='auto')\n",
    "    plt.xlabel(r'$\\lambda$' + ' (nm)')\n",
    "    plt.ylabel(r'$\\beta$')\n",
    "    cb = plt.colorbar(im)\n",
    "    cb.set_label(r'$E_B$' + ' (meV)')\n",
    "    plt.title(r'$E_B = $' + str(round(energia, 2)) + ' (meV), ' +\\\n",
    "            r'$\\lambda = $' + str(round(lamb, 2)) + ' (nm), ' +\\\n",
    "            r'$\\beta = $' + str(round(beta, 2)))\n",
    "    plt.plot(lamb, beta, color='red', marker='.')\n",
    "    plt.savefig(nome + 'B.svg')\n",
    "    plt.show()"
   ]
  },
  {
   "cell_type": "code",
   "execution_count": 343,
   "metadata": {
    "scrolled": true
   },
   "outputs": [
    {
     "name": "stdout",
     "output_type": "stream",
     "text": [
      "beta: 0.6\n",
      "beta: 0.604040404040404\n",
      "beta: 0.6080808080808081\n",
      "beta: 0.6121212121212121\n",
      "beta: 0.6161616161616161\n",
      "beta: 0.6202020202020202\n",
      "beta: 0.6242424242424243\n",
      "beta: 0.6282828282828282\n",
      "beta: 0.6323232323232323\n",
      "beta: 0.6363636363636364\n",
      "beta: 0.6404040404040404\n",
      "beta: 0.6444444444444444\n",
      "beta: 0.6484848484848484\n",
      "beta: 0.6525252525252525\n",
      "beta: 0.6565656565656566\n",
      "beta: 0.6606060606060606\n",
      "beta: 0.6646464646464646\n",
      "beta: 0.6686868686868687\n",
      "beta: 0.6727272727272727\n",
      "beta: 0.6767676767676767\n",
      "beta: 0.6808080808080808\n",
      "beta: 0.6848484848484848\n",
      "beta: 0.6888888888888889\n",
      "beta: 0.692929292929293\n",
      "beta: 0.6969696969696969\n",
      "beta: 0.701010101010101\n",
      "beta: 0.705050505050505\n",
      "beta: 0.7090909090909091\n",
      "beta: 0.7131313131313131\n",
      "beta: 0.7171717171717171\n",
      "beta: 0.7212121212121212\n",
      "beta: 0.7252525252525253\n",
      "beta: 0.7292929292929293\n",
      "beta: 0.7333333333333333\n",
      "beta: 0.7373737373737373\n",
      "beta: 0.7414141414141414\n",
      "beta: 0.7454545454545454\n",
      "beta: 0.7494949494949494\n",
      "beta: 0.7535353535353535\n",
      "beta: 0.7575757575757576\n",
      "beta: 0.7616161616161616\n",
      "beta: 0.7656565656565657\n",
      "beta: 0.7696969696969697\n",
      "beta: 0.7737373737373737\n",
      "beta: 0.7777777777777778\n",
      "beta: 0.7818181818181817\n",
      "beta: 0.7858585858585858\n",
      "beta: 0.7898989898989899\n",
      "beta: 0.793939393939394\n",
      "beta: 0.797979797979798\n",
      "beta: 0.802020202020202\n",
      "beta: 0.806060606060606\n",
      "beta: 0.8101010101010101\n",
      "beta: 0.814141414141414\n",
      "beta: 0.8181818181818181\n",
      "beta: 0.8222222222222222\n",
      "beta: 0.8262626262626263\n",
      "beta: 0.8303030303030303\n",
      "beta: 0.8343434343434344\n",
      "beta: 0.8383838383838383\n",
      "beta: 0.8424242424242424\n",
      "beta: 0.8464646464646465\n",
      "beta: 0.8505050505050504\n",
      "beta: 0.8545454545454545\n",
      "beta: 0.8585858585858586\n",
      "beta: 0.8626262626262626\n",
      "beta: 0.8666666666666667\n",
      "beta: 0.8707070707070708\n",
      "beta: 0.8747474747474747\n",
      "beta: 0.8787878787878788\n",
      "beta: 0.8828282828282827\n",
      "beta: 0.8868686868686868\n",
      "beta: 0.8909090909090909\n",
      "beta: 0.8949494949494949\n",
      "beta: 0.898989898989899\n",
      "beta: 0.9030303030303031\n",
      "beta: 0.907070707070707\n",
      "beta: 0.9111111111111111\n",
      "beta: 0.915151515151515\n",
      "beta: 0.9191919191919191\n",
      "beta: 0.9232323232323232\n",
      "beta: 0.9272727272727272\n",
      "beta: 0.9313131313131313\n",
      "beta: 0.9353535353535354\n",
      "beta: 0.9393939393939394\n",
      "beta: 0.9434343434343434\n",
      "beta: 0.9474747474747475\n",
      "beta: 0.9515151515151514\n",
      "beta: 0.9555555555555555\n",
      "beta: 0.9595959595959596\n",
      "beta: 0.9636363636363636\n",
      "beta: 0.9676767676767677\n",
      "beta: 0.9717171717171718\n",
      "beta: 0.9757575757575757\n",
      "beta: 0.9797979797979798\n",
      "beta: 0.9838383838383837\n",
      "beta: 0.9878787878787878\n",
      "beta: 0.9919191919191919\n",
      "beta: 0.9959595959595959\n",
      "beta: 1.0\n"
     ]
    },
    {
     "data": {
      "image/png": "[encoded data removed]",
      "text/plain": [
       "<Figure size 432x288 with 1 Axes>"
      ]
     },
     "metadata": {
      "needs_background": "light"
     },
     "output_type": "display_data"
    },
    {
     "data": {
      "text/plain": [
       "<Figure size 432x288 with 0 Axes>"
      ]
     },
     "metadata": {},
     "output_type": "display_data"
    },
    {
     "data": {
      "image/png": "[encoded data removed]",
      "text/plain": [
       "<Figure size 432x288 with 2 Axes>"
      ]
     },
     "metadata": {
      "needs_background": "light"
     },
     "output_type": "display_data"
    },
    {
     "name": "stdout",
     "output_type": "stream",
     "text": [
      "Time:  26.429734191666647  minutos\n"
     ]
    }
   ],
   "source": [
    "final()"
   ]
  }
 ],
 "metadata": {
  "kernelspec": {
   "display_name": "Python 3",
   "language": "python",
   "name": "python3"
  },
  "language_info": {
   "codemirror_mode": {
    "name": "ipython",
    "version": 3
   },
   "file_extension": ".py",
   "mimetype": "text/x-python",
   "name": "python",
   "nbconvert_exporter": "python",
   "pygments_lexer": "ipython3",
   "version": "3.7.3"
  }
 },
 "nbformat": 4,
 "nbformat_minor": 2
}
