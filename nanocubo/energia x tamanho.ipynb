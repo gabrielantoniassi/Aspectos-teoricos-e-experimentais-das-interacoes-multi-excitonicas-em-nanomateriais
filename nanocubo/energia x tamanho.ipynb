{
 "cells": [
  {
   "cell_type": "markdown",
   "metadata": {},
   "source": [
    "Código que lê todos os arquivos .csv contendo os valores das energias obtidas pelo Mathematica e faz um gráfico da energia de cada arquivo em função do tamanho do material.\n",
    "É feita uma interpolação a partir dos dados lidos, para obter um valor melhor da energia."
   ]
  },
  {
   "cell_type": "code",
   "execution_count": 1,
   "metadata": {},
   "outputs": [],
   "source": [
    "import numpy as np\n",
    "import pylab as plt\n",
    "import csv\n",
    "import glob\n",
    "from scipy.interpolate import interp1d"
   ]
  },
  {
   "cell_type": "code",
   "execution_count": 2,
   "metadata": {},
   "outputs": [],
   "source": [
    "# caminho da pasta que contém os arquivos que serão lidos\n",
    "files = glob.glob(\"C:/Users/Gabriel/Desktop/Google Drive/IC Lazaro/simulacoes/mathematica/nanocubo/*.csv\")\n",
    "\n",
    "tamanhos = [] # tamanhos dos materiais lidos\n",
    "# lê o tamanho do material a partir do nome do arquivo\n",
    "for fileName in files:\n",
    "    aux = 0\n",
    "    nome = \"\"\n",
    "    for i in range(len(fileName)):\n",
    "        if fileName[i] == '.' and fileName[i + 1] == 'c':\n",
    "            break\n",
    "        if aux == 1:\n",
    "            nome += fileName[i]\n",
    "        if fileName[i] == '_':\n",
    "            aux = 1\n",
    "    \n",
    "    tamanhos.append(float(nome))\n",
    "\n",
    "tamanhos.sort()\n",
    "# nomes dos arquivos que serão lidos, agora ordenados\n",
    "nomes = [\"nanocubo_\" + str(i) + \".csv\" for i in tamanhos]"
   ]
  },
  {
   "cell_type": "code",
   "execution_count": 3,
   "metadata": {},
   "outputs": [],
   "source": [
    "Es = [] # energias de ligacao para cada tamanho\n",
    "for nome in nomes:\n",
    "    E_input = [] # valores da energia lidos do arquivo nome\n",
    "    with open(nome) as file:\n",
    "        data = list(csv.reader(file))\n",
    "        \n",
    "        # leitura dos parâmetros\n",
    "        a = float(data[0][0])\n",
    "        lambIni = float(data[0][1])\n",
    "        lambFin = float(data[0][2])\n",
    "        lambN = int(data[0][3])\n",
    "        \n",
    "        # leitura das energias\n",
    "        for elem in data[1:]:\n",
    "            E_input.append(float(elem[0]))\n",
    "        \n",
    "        lambs = np.linspace(lambIni, lambFin, lambN) # range em lambda de nome\n",
    "        interp = interp1d(lambs, E_input, kind='cubic') # interpolação cúbica\n",
    "        lambs = np.linspace(lambIni, lambFin, 1000) # novo range em lambda\n",
    "        \n",
    "        Es_aux = interp(lambs) # valores de energia para o novo range\n",
    "        energia = np.amin(Es_aux) # energia de ligação de nome\n",
    "        \n",
    "        Es.append(energia)"
   ]
  },
  {
   "cell_type": "code",
   "execution_count": 4,
   "metadata": {},
   "outputs": [
    {
     "data": {
      "image/png": "[encoded data removed]",
      "text/plain": [
       "<Figure size 432x288 with 1 Axes>"
      ]
     },
     "metadata": {
      "needs_background": "light"
     },
     "output_type": "display_data"
    }
   ],
   "source": [
    "plt.plot(tamanhos, Es, 'r.')\n",
    "plt.ylabel(r'$E_B$' + ' (meV)')\n",
    "plt.xlabel(r'Largura (nm)')\n",
    "plt.savefig('nanocubo_eb_tamanho.svg')\n",
    "plt.show()"
   ]
  },
  {
   "cell_type": "code",
   "execution_count": null,
   "metadata": {},
   "outputs": [],
   "source": []
  }
 ],
 "metadata": {
  "kernelspec": {
   "display_name": "Python 3",
   "language": "python",
   "name": "python3"
  },
  "language_info": {
   "codemirror_mode": {
    "name": "ipython",
    "version": 3
   },
   "file_extension": ".py",
   "mimetype": "text/x-python",
   "name": "python",
   "nbconvert_exporter": "python",
   "pygments_lexer": "ipython3",
   "version": "3.7.6"
  }
 },
 "nbformat": 4,
 "nbformat_minor": 4
}
