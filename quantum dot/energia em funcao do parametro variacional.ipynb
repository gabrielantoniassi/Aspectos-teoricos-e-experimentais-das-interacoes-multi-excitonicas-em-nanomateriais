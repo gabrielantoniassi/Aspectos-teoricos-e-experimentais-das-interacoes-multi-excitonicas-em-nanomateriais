{
 "cells": [
  {
   "cell_type": "markdown",
   "metadata": {},
   "source": [
    "Código que lê um arquivo .csv contendo os valores das energias obtidas pelo Mathematica e faz um gráfico da energia em função do seu parâmetro variacional. \n",
    "É feita uma interpolação a partir dos dados lidos, para obter um valor melhor da energia."
   ]
  },
  {
   "cell_type": "code",
   "execution_count": 1,
   "metadata": {},
   "outputs": [],
   "source": [
    "import pylab as plt\n",
    "import numpy as np\n",
    "import csv\n",
    "from scipy.interpolate import interp1d"
   ]
  },
  {
   "cell_type": "code",
   "execution_count": 2,
   "metadata": {},
   "outputs": [],
   "source": [
    "nome_do_arquivo = 'quantum_dot_10.03.csv' # arquivo que desejamos ler\n",
    "E_input = [] # valores da energia lidos do arquivo nome_do_arquivo\n",
    "\n",
    "with open(nome_do_arquivo) as file:\n",
    "    data = list(csv.reader(file))\n",
    "\n",
    "    # leitura dos parâmetros\n",
    "    a = float(data[0][0])\n",
    "    lambIni = float(data[0][1])\n",
    "    lambFin = float(data[0][2])\n",
    "    lambN = int(data[0][3])\n",
    "    \n",
    "    # leitura das energias\n",
    "    for elem in data[1:]:\n",
    "        E_input.append(float(elem[0]))"
   ]
  },
  {
   "cell_type": "code",
   "execution_count": 3,
   "metadata": {},
   "outputs": [],
   "source": [
    "lambs = np.linspace(lambIni, lambFin, lambN) # range em lambda de nome_do_arquivo\n",
    "interp = interp1d(lambs, E_input, kind='cubic') # interpolação cúbica\n",
    "lambs = np.linspace(lambIni, lambFin, 1000) # novo range em lambda\n",
    "Es = interp(lambs) # valores de energia para o novo range"
   ]
  },
  {
   "cell_type": "code",
   "execution_count": 4,
   "metadata": {},
   "outputs": [],
   "source": [
    "energia = np.amin(Es) # energia de ligação\n",
    "lamb = lambs[np.where(Es == np.amin(Es))[0][0]] # lambda da energia de ligação"
   ]
  },
  {
   "cell_type": "code",
   "execution_count": 5,
   "metadata": {},
   "outputs": [
    {
     "data": {
      "image/png": "[encoded data removed]",
      "text/plain": [
       "<Figure size 432x288 with 1 Axes>"
      ]
     },
     "metadata": {
      "needs_background": "light"
     },
     "output_type": "display_data"
    }
   ],
   "source": [
    "nome = \"quantum_dot_\" + str(a) + \".svg\"  # nome da imagem que será gerada\n",
    "\n",
    "plt.plot(lambs, np.array(Es))\n",
    "plt.xlabel(r'$\\lambda$' + ' (nm)')\n",
    "plt.ylabel(r'$E$' + ' (meV)')\n",
    "plt.title(r'$E_B = $' + str(round(energia, 2)) + ' meV, ' + r'$\\lambda = $' +\\\n",
    "          str(round(lamb, 2)) + ' nm')\n",
    "plt.plot(lamb, energia, 'r.')\n",
    "plt.tight_layout()\n",
    "plt.savefig(nome)\n",
    "plt.show()"
   ]
  },
  {
   "cell_type": "code",
   "execution_count": null,
   "metadata": {},
   "outputs": [],
   "source": []
  }
 ],
 "metadata": {
  "kernelspec": {
   "display_name": "Python 3",
   "language": "python",
   "name": "python3"
  },
  "language_info": {
   "codemirror_mode": {
    "name": "ipython",
    "version": 3
   },
   "file_extension": ".py",
   "mimetype": "text/x-python",
   "name": "python",
   "nbconvert_exporter": "python",
   "pygments_lexer": "ipython3",
   "version": "3.7.6"
  }
 },
 "nbformat": 4,
 "nbformat_minor": 4
}
